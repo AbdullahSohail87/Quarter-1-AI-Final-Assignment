{
 "cells": [
  {
   "cell_type": "markdown",
   "metadata": {},
   "source": [
    "# Calculate Area of Circle"
   ]
  },
  {
   "cell_type": "code",
   "execution_count": 1,
   "metadata": {
    "scrolled": true
   },
   "outputs": [
    {
     "name": "stdout",
     "output_type": "stream",
     "text": [
      " Enter radius of a circle : 4\n",
      "Area of a circle with radius  4.0  is  50.24\n"
     ]
    }
   ],
   "source": [
    "Radius = float(input(\" Enter radius of a circle : \"))\n",
    "Area_of_circle = 3.14 * Radius **2\n",
    "print(\"Area of a circle with radius \",Radius,\" is \",Area_of_circle)"
   ]
  },
  {
   "cell_type": "markdown",
   "metadata": {},
   "source": [
    "# Divisibility Check of two numbers"
   ]
  },
  {
   "cell_type": "code",
   "execution_count": 2,
   "metadata": {
    "scrolled": true
   },
   "outputs": [
    {
     "name": "stdout",
     "output_type": "stream",
     "text": [
      "Enter first integer: 4\n",
      "Enter second integer: 8\n",
      "Number 4 is not divisible by 8\n"
     ]
    }
   ],
   "source": [
    "value1 = int(input(\"Enter first integer: \"))\n",
    "value2 = int(input(\"Enter second integer: \"))\n",
    "\n",
    "if value1 % value2 == 0:\n",
    "    print(f\"Number {value1} is divisible by {value2}\")\n",
    "\n",
    "else:\n",
    "    print(f\"Number {value1} is not divisible by {value2}\")"
   ]
  },
  {
   "cell_type": "markdown",
   "metadata": {},
   "source": [
    "# Check Number either positive negative or zero"
   ]
  },
  {
   "cell_type": "code",
   "execution_count": 3,
   "metadata": {
    "scrolled": true
   },
   "outputs": [
    {
     "name": "stdout",
     "output_type": "stream",
     "text": [
      "Enter your desired number: 0\n",
      "You entered zero\n"
     ]
    }
   ],
   "source": [
    "Value = int(input(\"Enter your desired number: \"))\n",
    "\n",
    "if Value > 0 :\n",
    "        print(\"You entered positive number\")\n",
    "\n",
    "elif Value < 0 :\n",
    "        print(\"You entered negative number\")\n",
    "\n",
    "else :\n",
    "        print(\"You entered zero\")"
   ]
  },
  {
   "cell_type": "markdown",
   "metadata": {},
   "source": [
    "# Days Calculator"
   ]
  },
  {
   "cell_type": "code",
   "execution_count": 4,
   "metadata": {
    "scrolled": true
   },
   "outputs": [
    {
     "name": "stdout",
     "output_type": "stream",
     "text": [
      "Enter a date in (dd/mm/yy) format: 13/09/1987\n",
      "Enter a date in (dd/mm/yy) format: 21/09/2017\n",
      "There are 10966 days in between 13/09/1987 and 21/09/2017\n"
     ]
    }
   ],
   "source": [
    "from datetime import datetime\n",
    "date_format = \"%d/%m/%Y\"\n",
    "e = input(\"Enter a date in (dd/mm/yy) format: \")\n",
    "f = input(\"Enter a date in (dd/mm/yy) format: \")\n",
    "a = datetime.strptime( e , date_format)\n",
    "b = datetime.strptime( f , date_format)\n",
    "delta = b - a\n",
    "print (\"There are\", delta.days, \"days in between\", e , \"and\" , f)"
   ]
  },
  {
   "cell_type": "markdown",
   "metadata": {},
   "source": [
    "# Calculate Volume of a sphere"
   ]
  },
  {
   "cell_type": "code",
   "execution_count": 5,
   "metadata": {
    "scrolled": true
   },
   "outputs": [
    {
     "name": "stdout",
     "output_type": "stream",
     "text": [
      "Enter Radius of Sphere: 7\n",
      "Volume of the Sphere with Radius 7 is: 1436.7550404293333\n"
     ]
    }
   ],
   "source": [
    "a = int(input(\"Enter Radius of Sphere: \"))\n",
    "print(\"Volume of the Sphere with Radius\" , a , \"is:\", 4 / 3 * 3.141592654 * a * a * a)"
   ]
  },
  {
   "cell_type": "markdown",
   "metadata": {},
   "source": [
    "# Copy string number of times"
   ]
  },
  {
   "cell_type": "code",
   "execution_count": 6,
   "metadata": {
    "scrolled": true
   },
   "outputs": [
    {
     "name": "stdout",
     "output_type": "stream",
     "text": [
      "Enter String: PakistanZindabad\n",
      "How many copies of String you need: 4\n",
      "4 Copies of PakistanZindabad are : PakistanZindabadPakistanZindabadPakistanZindabadPakistanZindabad\n"
     ]
    }
   ],
   "source": [
    "e = str(input(\"Enter String: \"))\n",
    "b = int(input(\"How many copies of String you need: \"))\n",
    "if b > 0:\n",
    "    print(b,\"Copies of\", e , \"are :\" , b * e)        \n",
    "else:\n",
    "    print(\"Invalid String or Number of copies:\")"
   ]
  },
  {
   "cell_type": "markdown",
   "metadata": {},
   "source": [
    "# Check if number is Even or Odd"
   ]
  },
  {
   "cell_type": "code",
   "execution_count": 7,
   "metadata": {
    "scrolled": true
   },
   "outputs": [
    {
     "name": "stdout",
     "output_type": "stream",
     "text": [
      "Enter Number: 5\n",
      "5 is Odd\n"
     ]
    }
   ],
   "source": [
    "num = int(input(\"Enter Number: \"))\n",
    "mod = num % 2\n",
    "if mod > 0:\n",
    "    print(num, \"is Odd\")\n",
    "else:\n",
    "    print(num, \"is Even\")"
   ]
  },
  {
   "cell_type": "markdown",
   "metadata": {},
   "source": [
    "# Vowel Tester"
   ]
  },
  {
   "cell_type": "code",
   "execution_count": 8,
   "metadata": {
    "scrolled": true
   },
   "outputs": [
    {
     "name": "stdout",
     "output_type": "stream",
     "text": [
      "Enter a character: u\n",
      "Letter u is Vowel.\n"
     ]
    }
   ],
   "source": [
    "a = input(\"Enter a character: \")\n",
    "\n",
    "if a in ('a', 'A', 'e', 'E', 'i', 'I', 'o', 'O', 'u', 'U'):\n",
    "    print(\"Letter\", a, \"is Vowel.\")\n",
    "else:\n",
    "    print(\"Letter\", a, \"is not Vowel.\")"
   ]
  },
  {
   "cell_type": "markdown",
   "metadata": {},
   "source": [
    "# Calculate Interest"
   ]
  },
  {
   "cell_type": "code",
   "execution_count": 9,
   "metadata": {
    "scrolled": true
   },
   "outputs": [
    {
     "name": "stdout",
     "output_type": "stream",
     "text": [
      "Please enter principal amount: 300\n",
      "Please Enter Rate of interest in %: 4\n",
      "Enter number of years for investment: 3\n",
      "After 3 years your principal amount 300 over an interest rate of 4.0 % will be 1500000.0\n"
     ]
    }
   ],
   "source": [
    "a = int(input(\"Please enter principal amount: \"))\n",
    "b = float(input(\"Please Enter Rate of interest in %: \"))\n",
    "c = int(input(\"Enter number of years for investment: \"))\n",
    "d = 0\n",
    "e = a * b * 10\n",
    "while d < c:\n",
    "    e += e * b\n",
    "    d += 1\n",
    "    \n",
    "print(\"After\",c,\"years your principal amount\",a,\"over an interest rate of\",b,\"% will be\",e)"
   ]
  },
  {
   "cell_type": "markdown",
   "metadata": {},
   "source": [
    "# Triangle area"
   ]
  },
  {
   "cell_type": "code",
   "execution_count": 10,
   "metadata": {
    "scrolled": false
   },
   "outputs": [
    {
     "name": "stdout",
     "output_type": "stream",
     "text": [
      "Enter magnitude of Triangle base: 4\n",
      "Enter Magnitude of Triangle Height: 8\n",
      "Area of a Triangle with Height 8 and Base 4 is 16\n"
     ]
    }
   ],
   "source": [
    "b = int(input(\"Enter magnitude of Triangle base: \"))\n",
    "h = int(input(\"Enter Magnitude of Triangle Height: \"))\n",
    "\n",
    "area = int(b*h/2)\n",
    "\n",
    "print(\"Area of a Triangle with Height\", h, \"and Base\", b, \"is\", area)"
   ]
  },
  {
   "cell_type": "markdown",
   "metadata": {},
   "source": [
    "# Euclidean distance"
   ]
  },
  {
   "cell_type": "code",
   "execution_count": 11,
   "metadata": {},
   "outputs": [
    {
     "name": "stdout",
     "output_type": "stream",
     "text": [
      "Enter Co-ordinate for x1: 8\n",
      "Enter Co-ordinate for x2: 8\n",
      "Enter Co-ordinate for y1: 7\n",
      "Enter Co-ordinate for y2: 9\n",
      "Distance between points ( 8 , 7 ) and ( 8 , 9 ) is 2\n"
     ]
    }
   ],
   "source": [
    "import math\n",
    "a = int(input(\"Enter Co-ordinate for x1: \"))\n",
    "b = int(input(\"Enter Co-ordinate for x2: \"))\n",
    "c = int(input(\"Enter Co-ordinate for y1: \"))\n",
    "d = int(input(\"Enter Co-ordinate for y2: \"))\n",
    "e = (a - b)*(a - b) + (c - d)*(c - d)\n",
    "f = math.sqrt(e)\n",
    "print(\"Distance between points (\",a,\",\",c,\") and (\",b,\",\",d,\") is\",int(f))"
   ]
  },
  {
   "cell_type": "markdown",
   "metadata": {},
   "source": [
    "# Feet to Centimeter Converter"
   ]
  },
  {
   "cell_type": "code",
   "execution_count": 12,
   "metadata": {},
   "outputs": [
    {
     "name": "stdout",
     "output_type": "stream",
     "text": [
      "Enter Height in Feet: 4\n",
      "There are 121.92 Cm in 4 ft\n"
     ]
    }
   ],
   "source": [
    "d_ft = float(input(\"Enter Height in Feet: \"))\n",
    "d_cm = float(d_ft) * 30.48\n",
    "\n",
    "print(\"There are\",d_cm,\"Cm in\",int(d_ft),\"ft\")"
   ]
  },
  {
   "cell_type": "markdown",
   "metadata": {},
   "source": [
    "# BMI Calculator"
   ]
  },
  {
   "cell_type": "code",
   "execution_count": 16,
   "metadata": {},
   "outputs": [
    {
     "name": "stdout",
     "output_type": "stream",
     "text": [
      "Enter Height in Cm: 166\n",
      "Enter Weight in Kg: 65\n",
      "Your BMI is 23.58832922049644\n"
     ]
    }
   ],
   "source": [
    "a = float(input(\"Enter Height in Cm: \"))\n",
    "b = float(input(\"Enter Weight in Kg: \"))\n",
    "c = a * 0.01\n",
    "d = b / (c * c)\n",
    "print(\"Your BMI is\",d)"
   ]
  },
  {
   "cell_type": "markdown",
   "metadata": {},
   "source": [
    "# Sum of n Positive Integers"
   ]
  },
  {
   "cell_type": "code",
   "execution_count": 14,
   "metadata": {},
   "outputs": [
    {
     "name": "stdout",
     "output_type": "stream",
     "text": [
      "Enter value of n: 6\n",
      "Sum of n Positive integers till 6 is 21\n"
     ]
    }
   ],
   "source": [
    "n = int(input(\"Enter value of n: \"))\n",
    "sum_num = (n * (n + 1)) / 2\n",
    "print(\"Sum of n Positive integers till\",n,\"is\",int(sum_num))"
   ]
  },
  {
   "cell_type": "markdown",
   "metadata": {},
   "source": [
    "# Digits Sum of a Number"
   ]
  },
  {
   "cell_type": "code",
   "execution_count": 17,
   "metadata": {},
   "outputs": [
    {
     "name": "stdout",
     "output_type": "stream",
     "text": [
      "Enter a number: 34\n",
      "Sum of 3 + 4 is 7\n"
     ]
    }
   ],
   "source": [
    "num = str(input(\"Enter a number: \"))\n",
    "x = 0 \n",
    "for y in num:\n",
    "    x += int(y)\n",
    "print(\"Sum of\", ' + '.join(map(str,num)) ,\"is\",x)"
   ]
  },
  {
   "cell_type": "markdown",
   "metadata": {},
   "source": [
    "# Decimal to Binary Converter"
   ]
  },
  {
   "cell_type": "code",
   "execution_count": 19,
   "metadata": {},
   "outputs": [
    {
     "name": "stdout",
     "output_type": "stream",
     "text": [
      "Enter a decimal number: 4\n",
      "Binary Reperesentation of 4 is 100\n"
     ]
    }
   ],
   "source": [
    "dec = int(input(\"Enter a decimal number: \"))\n",
    "num = bin(dec)\n",
    "print(\"Binary Reperesentation of\",dec,\"is\",num[2:])"
   ]
  },
  {
   "cell_type": "markdown",
   "metadata": {},
   "source": [
    "# Binary to Decimal Converter"
   ]
  },
  {
   "cell_type": "code",
   "execution_count": 20,
   "metadata": {},
   "outputs": [
    {
     "name": "stdout",
     "output_type": "stream",
     "text": [
      "Enter a Binary number: 100\n",
      "Decimal Reperesentation of 100 is 4\n"
     ]
    }
   ],
   "source": [
    "bi = input(\"Enter a Binary number: \")\n",
    "num = int(bi,2)\n",
    "print(\"Decimal Reperesentation of\",bi,\"is\",num)"
   ]
  },
  {
   "cell_type": "markdown",
   "metadata": {},
   "source": [
    "# Vowel and Consonants Counter"
   ]
  },
  {
   "cell_type": "code",
   "execution_count": 21,
   "metadata": {},
   "outputs": [
    {
     "name": "stdout",
     "output_type": "stream",
     "text": [
      "Enter text: Abdullah Sohail Akber\n",
      "\n",
      "Vowels: 8\n",
      "Consonants: 13\n"
     ]
    }
   ],
   "source": [
    "str1 = input(\"Enter text: \")\n",
    "vowels = 0\n",
    "consonants = 0\n",
    "\n",
    "for i in str1:\n",
    "    if(i == 'a' or i == 'e' or i == 'i' or i == 'o' or i == 'u'\n",
    "       or i == 'A' or i == 'E' or i == 'I' or i == 'O' or i == 'U'):\n",
    "        vowels = vowels + 1\n",
    "    else:\n",
    "        consonants = consonants + 1\n",
    "\n",
    "print()\n",
    "print(\"Vowels:\",vowels)\n",
    "print(\"Consonants:\",consonants)"
   ]
  },
  {
   "cell_type": "markdown",
   "metadata": {},
   "source": [
    "# Palindrome tester"
   ]
  },
  {
   "cell_type": "code",
   "execution_count": 22,
   "metadata": {},
   "outputs": [
    {
     "name": "stdout",
     "output_type": "stream",
     "text": [
      "Enter text: python\n",
      "It is not palindrome\n"
     ]
    }
   ],
   "source": [
    "my_str = input(\"Enter text: \")\n",
    "my_str = my_str.casefold()v\n",
    "rev_str = reversed(my_str)\n",
    "\n",
    "if list(my_str) == list(rev_str):\n",
    "   print(\"It is palindrome\")\n",
    "else:\n",
    "   print(\"It is not palindrome\")"
   ]
  },
  {
   "cell_type": "markdown",
   "metadata": {},
   "source": [
    "# Count Alphabets Numbers and Special Characters"
   ]
  },
  {
   "cell_type": "code",
   "execution_count": 23,
   "metadata": {},
   "outputs": [
    {
     "name": "stdout",
     "output_type": "stream",
     "text": [
      "Enter text: Abdullah_87\n",
      "Numbers = 2\n",
      "Alphabets = 9\n",
      "Special Characters = 0\n",
      "Spaces = 0\n"
     ]
    }
   ],
   "source": [
    "txt = input(\"Enter text: \")\n",
    "a = 0\n",
    "b = 0\n",
    "c = 0\n",
    "d = 0\n",
    "for x in txt:\n",
    "    if int(ord(x)) >= 65 and int(ord(x)) <= 122:\n",
    "        a += 1\n",
    "    elif int(ord(x)) >= 48 and int(ord(x)) <= 57:\n",
    "        b += 1\n",
    "    elif x == \" \":\n",
    "        d += 1\n",
    "    else:\n",
    "        c += 1\n",
    "print(\"Numbers =\",b)\n",
    "print(\"Alphabets =\",a)\n",
    "print(\"Special Characters =\",c)\n",
    "print(\"Spaces =\",d)"
   ]
  },
  {
   "cell_type": "markdown",
   "metadata": {},
   "source": [
    "# Python program to construct following pattern"
   ]
  },
  {
   "cell_type": "code",
   "execution_count": 24,
   "metadata": {},
   "outputs": [
    {
     "name": "stdout",
     "output_type": "stream",
     "text": [
      "\n",
      "* \n",
      "* * \n",
      "* * * \n",
      "* * * * \n",
      "* * * * * \n",
      "* * * * \n",
      "* * * \n",
      "* * \n",
      "* \n"
     ]
    }
   ],
   "source": [
    "n=5;\n",
    "for i in range(n):\n",
    "    for j in range(i):\n",
    "        print ('* ', end=\"\")\n",
    "    print('')\n",
    "\n",
    "for i in range(n,0,-1):\n",
    "    for j in range(i):\n",
    "        print('* ', end=\"\")\n",
    "    print('')"
   ]
  },
  {
   "cell_type": "markdown",
   "metadata": {},
   "source": [
    "# Python program to construct following pattern "
   ]
  },
  {
   "cell_type": "code",
   "execution_count": 25,
   "metadata": {},
   "outputs": [
    {
     "name": "stdout",
     "output_type": "stream",
     "text": [
      "1\n",
      "12\n",
      "123\n",
      "1234\n",
      "12345\n",
      "1234\n",
      "123\n",
      "12\n",
      "1\n",
      "\n"
     ]
    }
   ],
   "source": [
    "my_string = \"12345\"\n",
    "x = 0\n",
    "\n",
    "for i in my_string:\n",
    "    x = x + 1\n",
    "    print(my_string[0:x])\n",
    "\n",
    "for i in my_string:\n",
    "    x = x - 1\n",
    "    print(my_string[0:x])"
   ]
  },
  {
   "cell_type": "markdown",
   "metadata": {},
   "source": [
    "# Python program to construct following pattern"
   ]
  },
  {
   "cell_type": "code",
   "execution_count": 26,
   "metadata": {},
   "outputs": [
    {
     "name": "stdout",
     "output_type": "stream",
     "text": [
      "\n",
      "1\n",
      "22\n",
      "333\n",
      "4444\n",
      "55555\n",
      "666666\n",
      "7777777\n",
      "88888888\n",
      "999999999\n"
     ]
    }
   ],
   "source": [
    "for i in range(10):\n",
    "    print(str(i) * i)"
   ]
  },
  {
   "cell_type": "code",
   "execution_count": null,
   "metadata": {},
   "outputs": [],
   "source": []
  }
 ],
 "metadata": {
  "kernelspec": {
   "display_name": "Python 3",
   "language": "python",
   "name": "python3"
  },
  "language_info": {
   "codemirror_mode": {
    "name": "ipython",
    "version": 3
   },
   "file_extension": ".py",
   "mimetype": "text/x-python",
   "name": "python",
   "nbconvert_exporter": "python",
   "pygments_lexer": "ipython3",
   "version": "3.7.3"
  }
 },
 "nbformat": 4,
 "nbformat_minor": 2
}
